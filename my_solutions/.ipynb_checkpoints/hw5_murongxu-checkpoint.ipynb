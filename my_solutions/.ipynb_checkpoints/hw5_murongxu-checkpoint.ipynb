{
 "cells": [
  {
   "cell_type": "markdown",
   "id": "89c2a364",
   "metadata": {},
   "source": [
    "# Recovering images with a variational network\n",
    "\n",
    "The goal of this homework is to implement a variational network that recovers images from few measurements. Training a variational network is time intensive, therefore we work with a toy class of images only, namely handwritten digits. Those images are very small and save us computational time relative to working with real-world images arising in practical applications.\n",
    "\n",
    "Most of the implementation is set up already, your task is to implement the variational network and run the code."
   ]
  },
  {
   "cell_type": "code",
   "execution_count": 1,
   "id": "1f8d439b",
   "metadata": {},
   "outputs": [],
   "source": [
    "import numpy as np\n",
    "import matplotlib.pyplot as plt\n",
    "from tqdm.notebook import tqdm\n",
    "\n",
    "import torch\n",
    "import torch.nn as nn\n",
    "import torch.optim as optim\n",
    "import torchvision\n",
    "from torch.utils.data import Dataset, DataLoader"
   ]
  },
  {
   "cell_type": "markdown",
   "id": "c06bc2f7",
   "metadata": {},
   "source": [
    "### We start with downloading the MNIST digits"
   ]
  },
  {
   "cell_type": "code",
   "execution_count": 2,
   "id": "c914a22b",
   "metadata": {},
   "outputs": [],
   "source": [
    "transform= torchvision.transforms.ToTensor()\n",
    "dataset = torchvision.datasets.MNIST('./MNIST', True, transform=transform,download=True)"
   ]
  },
  {
   "cell_type": "markdown",
   "id": "6ad4f4e4",
   "metadata": {},
   "source": [
    "### We consider reconstruction from 4x undersampled random measurements"
   ]
  },
  {
   "cell_type": "code",
   "execution_count": 3,
   "id": "2c8ffee6",
   "metadata": {},
   "outputs": [],
   "source": [
    "# Measurement Matrix\n",
    "n=dataset[0][0].shape[1] #28\n",
    "m=n//4   # 4 times acceleration\n",
    "\n",
    "# The matrix A is Gaussian, mean 0, variance 1\n",
    "torch.manual_seed(0)\n",
    "A=torch.normal(0, 1, size=(m, n)) \n",
    "\n",
    "device='cpu'\n",
    "A=A.to(device)"
   ]
  },
  {
   "cell_type": "code",
   "execution_count": 4,
   "id": "4c94453e",
   "metadata": {},
   "outputs": [],
   "source": [
    "##Prepare data\n",
    "class data():\n",
    "        \n",
    "    def __len__(self):\n",
    "        return len(dataset)\n",
    "    \n",
    "    def __getitem__(self, idx):\n",
    "        \n",
    "        data=dict()\n",
    "        data['x']=dataset[idx][0].to(device)\n",
    "        data['y']=(A@data['x'][0]).unsqueeze(0).to(device) #y=Ax\n",
    "\n",
    "        return data"
   ]
  },
  {
   "cell_type": "code",
   "execution_count": 5,
   "id": "91a9a2d5",
   "metadata": {},
   "outputs": [],
   "source": [
    "Data=data()\n",
    "\n",
    "#Split in train, validate and test sets\n",
    "train_set, val_set, test_set = torch.utils.data.random_split(Data,[5000,1000,54000])\n",
    "\n",
    "#Dataloader\n",
    "train_dl = DataLoader(train_set, batch_size=1)\n",
    "val_dl = DataLoader(val_set, batch_size=1)\n",
    "test_dl= DataLoader(test_set, batch_size=1,shuffle=True)"
   ]
  },
  {
   "cell_type": "markdown",
   "id": "1c0374e8",
   "metadata": {},
   "source": [
    "### Variational network\n",
    "\n",
    "The task is to implement a variational network in the cell below. The network consists of num_cascades = 8 cascades. The network should output the initialization, as well as the reconstruction after every cascade (see last cell).\n",
    "\n",
    "The network is initialized as \n",
    "$$\n",
    "x^t = A^T y,\n",
    "$$\n",
    "and implements the iterations\n",
    "$$\n",
    "x^{t+1} = x^t - \\eta (A^T(Ax^t -y) + R_t(x^t)),\n",
    "$$\n",
    "where $R_t$ is a regularizer parameterized as\n",
    "$$\n",
    "R_t(x) = \\sum_{i=1}^k C_{t,1,i}^T relu(C_{t,2,i} x).\n",
    "$$\n",
    "Here, $C_{t,j,i}$ is a convolution with a kernel of size $3\\times 3$. Note that the regularizer is a simple convolutional network that can be implemented with the functions nn.Conv2d() and nn.ReLU(). The parameter $\\eta$ is a trainable parameter, initialize it to $\\eta=0.01$."
   ]
  },
  {
   "cell_type": "code",
   "execution_count": 6,
   "id": "de1d6949",
   "metadata": {},
   "outputs": [],
   "source": [
    "#Whole Variational Network    \n",
    "class VarNet(nn.Module):\n",
    "    def __init__(self, num_cascades=8):\n",
    "        super(VarNet, self).__init__()\n",
    "        self.num_cascades = num_cascades\n",
    "        self.matrix = A\n",
    "        self.step_size = torch.nn.Parameter(torch.tensor([0.01]))\n",
    "        # self.step_size = 0.01\n",
    "        self.k = 48\n",
    "        self.cnn_regularizer = nn.Sequential(\n",
    "            nn.Conv2d(1, self.k, (3, 3), padding=(1, 1)),\n",
    "            nn.ReLU(),\n",
    "            nn.Conv2d(self.k, 1, (3, 3), padding=(1, 1))\n",
    "        )\n",
    "        self.cascades = nn.ModuleList(\n",
    "            [self.cnn_regularizer for _ in range(self.num_cascades)]\n",
    "        )\n",
    "        \n",
    "    def forward(self, y):\n",
    "        x_init = A.T @ y\n",
    "        x_current = x_init.clone()\n",
    "        x_int = []\n",
    "        x_int.append(x_current)\n",
    "        for cascade in self.cascades:\n",
    "            x_next = x_current - self.step_size * (A.T @ (A @ x_current - y) + cascade(x_current.unsqueeze(0)).squeeze(0))\n",
    "            x_int.append(x_next)\n",
    "            x_current = x_next\n",
    "        return x_int "
   ]
  },
  {
   "cell_type": "code",
   "execution_count": 7,
   "id": "9e7e65e3",
   "metadata": {},
   "outputs": [],
   "source": [
    "model=VarNet()\n",
    "model=model.to(device)"
   ]
  },
  {
   "cell_type": "markdown",
   "id": "7ac885cd",
   "metadata": {},
   "source": [
    "### Below are funtions to train and test the network"
   ]
  },
  {
   "cell_type": "code",
   "execution_count": 8,
   "id": "744059f0",
   "metadata": {},
   "outputs": [],
   "source": [
    "##Loss\n",
    "def mse(gt: torch.Tensor, pred:torch.Tensor)-> torch.Tensor:\n",
    "    loss = torch.nn.MSELoss()\n",
    "    return loss(gt,pred)\n",
    "\n",
    "#train function\n",
    "def train(model, optimizer, sample):\n",
    "    model.train()\n",
    "    \n",
    "    # reset optimizer's gradient\n",
    "    optimizer.zero_grad()\n",
    "\n",
    "    # define variables\n",
    "    y = sample['y'].squeeze(0)\n",
    "    x = sample['x'].squeeze(0)\n",
    "      \n",
    "    # get the prediction\n",
    "    pred = model(y)[-1]\n",
    "    pred_loss = mse(pred, x)\n",
    "    \n",
    "    #one step of training\n",
    "    pred_loss.backward()\n",
    "    optimizer.step()\n",
    "\n",
    "    return pred_loss.item()\n",
    "\n",
    "#test function\n",
    "def test(model, sample): \n",
    "    model.eval()\n",
    "    \n",
    "    with torch.no_grad(): \n",
    "        \n",
    "        y = sample['y'].squeeze(0)\n",
    "        x = sample['x'].squeeze(0) \n",
    "        \n",
    "        # get the prediction\n",
    "        pred = model(y)[-1]\n",
    "        pred_loss = mse(pred, x)\n",
    "\n",
    "    return pred_loss.item()\n",
    "\n",
    "#reconstruction\n",
    "def inference(model, sample): \n",
    "    model.eval()\n",
    "    \n",
    "    with torch.no_grad(): \n",
    "        \n",
    "        y = sample['y'].squeeze(0)\n",
    "        pred=model(y)\n",
    "\n",
    "    return pred"
   ]
  },
  {
   "cell_type": "markdown",
   "id": "dce613e2",
   "metadata": {},
   "source": [
    "### Training\n",
    "\n",
    "As optimizer, we choose the Adam optimizer (a standard adaptive gradient method). We then train the model for 10 epochs; training for more epochs gives better results, but after 10 epochs we already get a model that works reasonably well for image recovery."
   ]
  },
  {
   "cell_type": "code",
   "execution_count": 9,
   "id": "6d74f960",
   "metadata": {},
   "outputs": [
    {
     "data": {
      "application/vnd.jupyter.widget-view+json": {
       "model_id": "80c4479c4614449b976ae6a3f5f9b5cf",
       "version_major": 2,
       "version_minor": 0
      },
      "text/plain": [
       "  0%|          | 0/10 [00:00<?, ?it/s]"
      ]
     },
     "metadata": {},
     "output_type": "display_data"
    },
    {
     "data": {
      "application/vnd.jupyter.widget-view+json": {
       "model_id": "efd3a268307f46bcbc356308d4b0c0fa",
       "version_major": 2,
       "version_minor": 0
      },
      "text/plain": [
       "  0%|          | 0/5000 [00:00<?, ?it/s]"
      ]
     },
     "metadata": {},
     "output_type": "display_data"
    },
    {
     "data": {
      "application/vnd.jupyter.widget-view+json": {
       "model_id": "821b8449383b46fb92e53ebeb99b20e2",
       "version_major": 2,
       "version_minor": 0
      },
      "text/plain": [
       "  0%|          | 0/1000 [00:00<?, ?it/s]"
      ]
     },
     "metadata": {},
     "output_type": "display_data"
    },
    {
     "name": "stdout",
     "output_type": "stream",
     "text": [
      "0 0.033739103394932954 0.030479454739019255\n"
     ]
    },
    {
     "data": {
      "application/vnd.jupyter.widget-view+json": {
       "model_id": "b8864553d4ab4d55887d2bc329cc015e",
       "version_major": 2,
       "version_minor": 0
      },
      "text/plain": [
       "  0%|          | 0/5000 [00:00<?, ?it/s]"
      ]
     },
     "metadata": {},
     "output_type": "display_data"
    },
    {
     "data": {
      "application/vnd.jupyter.widget-view+json": {
       "model_id": "8912e46dc4d548cbb1aba4a2f7c71d5b",
       "version_major": 2,
       "version_minor": 0
      },
      "text/plain": [
       "  0%|          | 0/1000 [00:00<?, ?it/s]"
      ]
     },
     "metadata": {},
     "output_type": "display_data"
    },
    {
     "name": "stdout",
     "output_type": "stream",
     "text": [
      "1 0.02866248979382209 0.027446120826061824\n"
     ]
    },
    {
     "data": {
      "application/vnd.jupyter.widget-view+json": {
       "model_id": "d67a68b1ede841ee8052aa2fd5d35bd3",
       "version_major": 2,
       "version_minor": 0
      },
      "text/plain": [
       "  0%|          | 0/5000 [00:00<?, ?it/s]"
      ]
     },
     "metadata": {},
     "output_type": "display_data"
    },
    {
     "data": {
      "application/vnd.jupyter.widget-view+json": {
       "model_id": "c526af10f7b841a29e1d25397c72dc7d",
       "version_major": 2,
       "version_minor": 0
      },
      "text/plain": [
       "  0%|          | 0/1000 [00:00<?, ?it/s]"
      ]
     },
     "metadata": {},
     "output_type": "display_data"
    },
    {
     "name": "stdout",
     "output_type": "stream",
     "text": [
      "2 0.026604347950220007 0.026130315539427112\n"
     ]
    },
    {
     "data": {
      "application/vnd.jupyter.widget-view+json": {
       "model_id": "5fcc26aa0a9c4628b5258c7179ad4b92",
       "version_major": 2,
       "version_minor": 0
      },
      "text/plain": [
       "  0%|          | 0/5000 [00:00<?, ?it/s]"
      ]
     },
     "metadata": {},
     "output_type": "display_data"
    },
    {
     "data": {
      "application/vnd.jupyter.widget-view+json": {
       "model_id": "02a09e135b9747b2b9eebf09f248d3c1",
       "version_major": 2,
       "version_minor": 0
      },
      "text/plain": [
       "  0%|          | 0/1000 [00:00<?, ?it/s]"
      ]
     },
     "metadata": {},
     "output_type": "display_data"
    },
    {
     "name": "stdout",
     "output_type": "stream",
     "text": [
      "3 0.025582028068089825 0.02530023975623774\n"
     ]
    },
    {
     "data": {
      "application/vnd.jupyter.widget-view+json": {
       "model_id": "d42775b2e0b641f2b5c6333f135f747e",
       "version_major": 2,
       "version_minor": 0
      },
      "text/plain": [
       "  0%|          | 0/5000 [00:00<?, ?it/s]"
      ]
     },
     "metadata": {},
     "output_type": "display_data"
    },
    {
     "data": {
      "application/vnd.jupyter.widget-view+json": {
       "model_id": "1a92f725108b4aa0a5b54233b1ec2718",
       "version_major": 2,
       "version_minor": 0
      },
      "text/plain": [
       "  0%|          | 0/1000 [00:00<?, ?it/s]"
      ]
     },
     "metadata": {},
     "output_type": "display_data"
    },
    {
     "name": "stdout",
     "output_type": "stream",
     "text": [
      "4 0.02490303499004798 0.024686104403808667\n"
     ]
    },
    {
     "data": {
      "application/vnd.jupyter.widget-view+json": {
       "model_id": "dec7031d7e7d407985e9cd3de0dcadf0",
       "version_major": 2,
       "version_minor": 0
      },
      "text/plain": [
       "  0%|          | 0/5000 [00:00<?, ?it/s]"
      ]
     },
     "metadata": {},
     "output_type": "display_data"
    },
    {
     "data": {
      "application/vnd.jupyter.widget-view+json": {
       "model_id": "dc8c44f6a84a449396dbc24202e63d0c",
       "version_major": 2,
       "version_minor": 0
      },
      "text/plain": [
       "  0%|          | 0/1000 [00:00<?, ?it/s]"
      ]
     },
     "metadata": {},
     "output_type": "display_data"
    },
    {
     "name": "stdout",
     "output_type": "stream",
     "text": [
      "5 0.024381550681451362 0.024218321490101575\n"
     ]
    },
    {
     "data": {
      "application/vnd.jupyter.widget-view+json": {
       "model_id": "d924e1143de64a7a8eef8856444dcff8",
       "version_major": 2,
       "version_minor": 0
      },
      "text/plain": [
       "  0%|          | 0/5000 [00:00<?, ?it/s]"
      ]
     },
     "metadata": {},
     "output_type": "display_data"
    },
    {
     "data": {
      "application/vnd.jupyter.widget-view+json": {
       "model_id": "04391e216eb642b3a0f77628625f570c",
       "version_major": 2,
       "version_minor": 0
      },
      "text/plain": [
       "  0%|          | 0/1000 [00:00<?, ?it/s]"
      ]
     },
     "metadata": {},
     "output_type": "display_data"
    },
    {
     "name": "stdout",
     "output_type": "stream",
     "text": [
      "6 0.023950233087409276 0.02384449875284916\n"
     ]
    },
    {
     "data": {
      "application/vnd.jupyter.widget-view+json": {
       "model_id": "52d49503e60b433e816b1d875b92e225",
       "version_major": 2,
       "version_minor": 0
      },
      "text/plain": [
       "  0%|          | 0/5000 [00:00<?, ?it/s]"
      ]
     },
     "metadata": {},
     "output_type": "display_data"
    },
    {
     "data": {
      "application/vnd.jupyter.widget-view+json": {
       "model_id": "6ae49100d6a3423db5230504112813c7",
       "version_major": 2,
       "version_minor": 0
      },
      "text/plain": [
       "  0%|          | 0/1000 [00:00<?, ?it/s]"
      ]
     },
     "metadata": {},
     "output_type": "display_data"
    },
    {
     "name": "stdout",
     "output_type": "stream",
     "text": [
      "7 0.023569054028158985 0.023402207179227842\n"
     ]
    },
    {
     "data": {
      "application/vnd.jupyter.widget-view+json": {
       "model_id": "7018cf80a63940fc93b9ae9f09922062",
       "version_major": 2,
       "version_minor": 0
      },
      "text/plain": [
       "  0%|          | 0/5000 [00:00<?, ?it/s]"
      ]
     },
     "metadata": {},
     "output_type": "display_data"
    },
    {
     "data": {
      "application/vnd.jupyter.widget-view+json": {
       "model_id": "950007d9b1b34eaf88f243c7c1213743",
       "version_major": 2,
       "version_minor": 0
      },
      "text/plain": [
       "  0%|          | 0/1000 [00:00<?, ?it/s]"
      ]
     },
     "metadata": {},
     "output_type": "display_data"
    },
    {
     "name": "stdout",
     "output_type": "stream",
     "text": [
      "8 0.023215631851693647 0.02308919489569963\n"
     ]
    },
    {
     "data": {
      "application/vnd.jupyter.widget-view+json": {
       "model_id": "89347d35ec984a02ba68ed58143e301b",
       "version_major": 2,
       "version_minor": 0
      },
      "text/plain": [
       "  0%|          | 0/5000 [00:00<?, ?it/s]"
      ]
     },
     "metadata": {},
     "output_type": "display_data"
    },
    {
     "data": {
      "application/vnd.jupyter.widget-view+json": {
       "model_id": "ccafe67342d148329bf0542ebc126af4",
       "version_major": 2,
       "version_minor": 0
      },
      "text/plain": [
       "  0%|          | 0/1000 [00:00<?, ?it/s]"
      ]
     },
     "metadata": {},
     "output_type": "display_data"
    },
    {
     "name": "stdout",
     "output_type": "stream",
     "text": [
      "9 0.022899221152346595 0.02279897149512543\n"
     ]
    }
   ],
   "source": [
    "optimizer = optim.Adam(model.parameters(), lr=0.0007, weight_decay=0)\n",
    "\n",
    "max_epoch = 10\n",
    "mse_train=[]\n",
    "mse_test= []\n",
    "\n",
    "for epoch in tqdm(range(max_epoch)):\n",
    "    # Initialize Loss and Accuracy\n",
    "    train_loss = val_loss= 0.0\n",
    "    \n",
    "    ### Training Phase\n",
    "    \n",
    "    ## Iterate over the train_dataloader\n",
    "    with tqdm(total=len(train_dl)) as pbar:\n",
    "        for sample in train_dl:            \n",
    "            curr_loss = train(model, optimizer, sample)\n",
    "            train_loss += curr_loss / len(train_dl) \n",
    "            pbar.update(1)\n",
    "    \n",
    "    mse_train.append(train_loss)\n",
    "\n",
    "\n",
    "    ### Validation Phase \n",
    "    \n",
    "    ## Iterate over the validation_dataloader\n",
    "    with tqdm(total=len(val_dl)) as pbar:\n",
    "        for sample in val_dl: \n",
    "            curr_loss= test(model, sample)\n",
    "            val_loss += curr_loss / len(val_dl)\n",
    "            pbar.update(1)\n",
    "    \n",
    "    mse_test.append(val_loss) \n",
    "    \n",
    "    print(epoch, train_loss, val_loss)    \n"
   ]
  },
  {
   "cell_type": "code",
   "execution_count": 10,
   "id": "fdff3584",
   "metadata": {},
   "outputs": [
    {
     "data": {
      "text/plain": [
       "Text(0, 0.5, 'MSE')"
      ]
     },
     "execution_count": 10,
     "metadata": {},
     "output_type": "execute_result"
    },
    {
     "data": {
      "image/png": "[encoded data removed]",
      "text/plain": [
       "<Figure size 432x288 with 1 Axes>"
      ]
     },
     "metadata": {
      "needs_background": "light"
     },
     "output_type": "display_data"
    }
   ],
   "source": [
    "plt.plot(mse_test)\n",
    "plt.title('Validation Error')\n",
    "plt.xlabel('epoch')\n",
    "plt.ylabel('MSE')"
   ]
  },
  {
   "cell_type": "markdown",
   "id": "e706527c",
   "metadata": {},
   "source": [
    "### Visualization how VarNet reconstructs an image"
   ]
  },
  {
   "cell_type": "code",
   "execution_count": 11,
   "id": "5424e695",
   "metadata": {},
   "outputs": [
    {
     "data": {
      "text/plain": [
       "Text(0.5, 1.0, 'Ground Truth')"
      ]
     },
     "execution_count": 11,
     "metadata": {},
     "output_type": "execute_result"
    },
    {
     "data": {
      "text/plain": [
       "<Figure size 432x288 with 0 Axes>"
      ]
     },
     "metadata": {},
     "output_type": "display_data"
    },
    {
     "data": {
      "image/png": "[encoded data removed]",
      "text/plain": [
       "<Figure size 1080x1080 with 10 Axes>"
      ]
     },
     "metadata": {},
     "output_type": "display_data"
    }
   ],
   "source": [
    "sample=next(iter(test_dl))  #random sample from test set\n",
    "pred=inference(model,sample) #reconstruct random sample\n",
    "\n",
    "plt.gray()\n",
    "fig, ax = plt.subplots(1, 10,figsize=(15, 15))\n",
    "for i in range(9):\n",
    "    ax[i].imshow(pred[i].squeeze(0).detach().cpu().numpy())\n",
    "    ax[i].set_xticks([])\n",
    "    ax[i].set_yticks([])\n",
    "    ax[i].set_title('Cascade '+ str(i))\n",
    "    \n",
    "ax[9].imshow(sample['x'].squeeze(0).squeeze(0).cpu().numpy())   \n",
    "ax[9].set_xticks([])\n",
    "ax[9].set_yticks([])\n",
    "ax[9].set_title('Ground Truth')  "
   ]
  },
  {
   "cell_type": "code",
   "execution_count": null,
   "id": "36bf255b",
   "metadata": {},
   "outputs": [],
   "source": []
  }
 ],
 "metadata": {
  "kernelspec": {
   "display_name": "Python 3",
   "language": "python",
   "name": "python3"
  },
  "language_info": {
   "codemirror_mode": {
    "name": "ipython",
    "version": 3
   },
   "file_extension": ".py",
   "mimetype": "text/x-python",
   "name": "python",
   "nbconvert_exporter": "python",
   "pygments_lexer": "ipython3",
   "version": "3.8.10"
  }
 },
 "nbformat": 4,
 "nbformat_minor": 5
}
