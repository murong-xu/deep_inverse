{
  "nbformat": 4,
  "nbformat_minor": 5,
  "metadata": {
    "kernelspec": {
      "display_name": "Python 3",
      "language": "python",
      "name": "python3"
    },
    "language_info": {
      "codemirror_mode": {
        "name": "ipython",
        "version": 3
      },
      "file_extension": ".py",
      "mimetype": "text/x-python",
      "name": "python",
      "nbconvert_exporter": "python",
      "pygments_lexer": "ipython3",
      "version": "3.8.10"
    },
    "colab": {
      "name": "hw7_my.ipynb",
      "provenance": [],
      "collapsed_sections": []
    },
    "accelerator": "GPU"
  },
  "cells": [
    {
      "cell_type": "markdown",
      "metadata": {
        "id": "c5b3ea00"
      },
      "source": [
        "# Computational Tomography with Un-trained Neural Networks\n",
        "\n",
        "In this exercise, the task is to reconstruct an image in the context of computational tomography. The original images is given as $x$ below, and is loaded from the the file origina.npy, which must be in the same folder as this notebook.\n",
        "\n",
        "Below, you are given the measurement operator $A$ and a measurement obtained as\n",
        "$$\n",
        "y = A x.\n",
        "$$\n",
        "The task is to reconstruct the image $x$ from $y$ with an un-trained neural network. You are welcome to use code from any repository of your choice, for example:\n",
        "- Deep image prior: [https://github.com/DmitryUlyanov/deep-image-prior](https://github.com/DmitryUlyanov/deep-image-prior)\n",
        "- Deep decoder: [https://github.com/reinhardh/supplement_deep_decoder](https://github.com/reinhardh/supplement_deep_decoder)\n",
        "- Compressive sensing with the deep decoder [https://github.com/MLI-lab/cs_deep_decoder](https://github.com/MLI-lab/cs_deep_decoder)\n",
        "To make this work, you might have to tune the network and optimization appropriately.\n"
      ],
      "id": "c5b3ea00"
    },
    {
      "cell_type": "code",
      "metadata": {
        "id": "5ac58df1"
      },
      "source": [
        "import numpy as np\n",
        "import matplotlib.pyplot as plt\n",
        "import torch\n",
        "import torchvision.transforms.functional as F\n",
        "from torch.autograd import Variable\n",
        "import torch.nn as nn\n",
        "import copy\n",
        "import os\n",
        "from functools import partial\n",
        "from tqdm import tqdm\n",
        "tqdm = partial(tqdm, position=0, leave=True)\n",
        "from pathlib import Path"
      ],
      "id": "5ac58df1",
      "execution_count": 1,
      "outputs": []
    },
    {
      "cell_type": "code",
      "metadata": {
        "collapsed": true,
        "id": "a0fc4933"
      },
      "source": [
        "#Load ground truth\n",
        "\n",
        "x_path='./original.npy'  #path to ground truth\n",
        "x=np.load(x_path)        #load ground truth\n",
        "\n",
        "device = torch.device(\"cuda\")\n",
        "x=torch.FloatTensor(x)"
      ],
      "id": "a0fc4933",
      "execution_count": 2,
      "outputs": []
    },
    {
      "cell_type": "code",
      "metadata": {
        "colab": {
          "base_uri": "https://localhost:8080/",
          "height": 281
        },
        "id": "fda2a223",
        "outputId": "ebd338ba-4ee9-4cb3-8a6c-fbb033308a4c"
      },
      "source": [
        "#Plot original image\n",
        "\n",
        "plt.imshow(x)\n",
        "plt.gray()\n",
        "plt.title('Original image')\n",
        "plt.show()"
      ],
      "id": "fda2a223",
      "execution_count": 3,
      "outputs": [
        {
          "output_type": "display_data",
          "data": {
            "image/png": "[encoded data removed]",
            "text/plain": [
              "<Figure size 432x288 with 1 Axes>"
            ]
          },
          "metadata": {
            "tags": [],
            "needs_background": "light"
          }
        }
      ]
    },
    {
      "cell_type": "markdown",
      "metadata": {
        "id": "67bcdab4"
      },
      "source": [
        "In the following we define the forward model $A$, which represents a parallel beam projection (also known as a discrete radon transform) with a 4x acceleration factor."
      ],
      "id": "67bcdab4"
    },
    {
      "cell_type": "code",
      "metadata": {
        "collapsed": true,
        "id": "8278cefe"
      },
      "source": [
        "#Forward Model A\n",
        "\n",
        "def A(image):\n",
        "    n=image.shape[0]\n",
        "    m=n//4  # 4 times acceleration\n",
        "    pbp = torch.zeros(m,n)\n",
        "    image=image.unsqueeze(0)\n",
        "    \n",
        "    for i in range(m):\n",
        "        proj = F.rotate(image, -i*180/m).squeeze(0)\n",
        "        pbp[i,:] = torch.sum(proj,0)\n",
        "        \n",
        "    return pbp"
      ],
      "id": "8278cefe",
      "execution_count": 4,
      "outputs": []
    },
    {
      "cell_type": "markdown",
      "metadata": {
        "id": "a5e8ee06"
      },
      "source": [
        "The measurement, $y$, is created by: $y=A(x)$"
      ],
      "id": "a5e8ee06"
    },
    {
      "cell_type": "code",
      "metadata": {
        "colab": {
          "base_uri": "https://localhost:8080/",
          "height": 148
        },
        "id": "bab843e1",
        "outputId": "5b20f91d-723e-49b9-a382-8af1b17c8395"
      },
      "source": [
        "#create and plot measurement\n",
        "y=A(x)\n",
        "\n",
        "plt.imshow(y)\n",
        "plt.title('Measurement')\n",
        "plt.show()"
      ],
      "id": "bab843e1",
      "execution_count": 5,
      "outputs": [
        {
          "output_type": "display_data",
          "data": {
            "image/png": "[encoded data removed]",
            "text/plain": [
              "<Figure size 432x288 with 1 Axes>"
            ]
          },
          "metadata": {
            "tags": [],
            "needs_background": "light"
          }
        }
      ]
    },
    {
      "cell_type": "code",
      "metadata": {
        "collapsed": true,
        "id": "ad74d4be"
      },
      "source": [
        "def np_to_var(img_np, dtype=torch.cuda.FloatTensor):\n",
        "    '''Converts image in numpy.array to torch.Variable.\n",
        "\n",
        "    From C x W x H [0..1] to  1 x C x W x H [0..1]\n",
        "    '''\n",
        "    return Variable(torch.from_numpy(img_np)[None, :])\n",
        "\n",
        "def psnr(x_hat, x_true, maxv=1.):\n",
        "    x_hat = x_hat.flatten()\n",
        "    x_true = x_true.flatten()\n",
        "    mse = np.mean(np.square(x_hat - x_true))\n",
        "    psnr_ = 10. * np.log(maxv ** 2 / mse) / np.log(10.)\n",
        "    return psnr_\n",
        "\n",
        "\n",
        "def num_param(net):\n",
        "    s = sum([np.prod(list(p.size())) for p in net.parameters()])\n",
        "    return s\n",
        "\n",
        "\n",
        "def myimgshow(plt, img):\n",
        "    if (img.shape[0] == 1):\n",
        "        plt.imshow(np.clip(img[0], 0, 1), cmap='Greys', interpolation='none')\n",
        "    else:\n",
        "        plt.imshow(np.clip(img.transpose(1, 2, 0), 0, 1), interpolation='none')\n",
        "\n",
        "\n",
        "def add_module(self, module):\n",
        "    self.add_module(str(len(self) + 1), module)\n",
        "\n",
        "\n",
        "def conv(in_f, out_f, kernel_size, stride=1, pad='zero'):\n",
        "    padder = None\n",
        "    to_pad = int((kernel_size - 1) / 2)\n",
        "    if pad == 'reflection':\n",
        "        padder = nn.ReflectionPad2d(to_pad)\n",
        "        to_pad = 0\n",
        "\n",
        "    convolver = nn.Conv2d(in_f, out_f, kernel_size, stride, padding=to_pad, bias=False)\n",
        "\n",
        "    layers = filter(lambda x: x is not None, [padder, convolver])\n",
        "    return nn.Sequential(*layers)"
      ],
      "id": "ad74d4be",
      "execution_count": 6,
      "outputs": []
    },
    {
      "cell_type": "code",
      "metadata": {
        "id": "WeMSKcuEk6s1"
      },
      "source": [
        "torch.nn.Module.add = add_module"
      ],
      "id": "WeMSKcuEk6s1",
      "execution_count": 7,
      "outputs": []
    },
    {
      "cell_type": "code",
      "metadata": {
        "id": "tWoBYEVklDQ9"
      },
      "source": [
        "def decodernw(\n",
        "        num_output_channels=3,\n",
        "        num_channels_up=[128] * 5,\n",
        "        filter_size_up=1,\n",
        "        need_sigmoid=True,\n",
        "        pad='reflection',\n",
        "        upsample_mode='bilinear',\n",
        "        act_fun=nn.ReLU(),  # nn.LeakyReLU(0.2, inplace=True)\n",
        "        bn_before_act=False,\n",
        "        bn_affine=True,\n",
        "        upsample_first=True,\n",
        "):\n",
        "    num_channels_up = num_channels_up + [num_channels_up[-1], num_channels_up[-1]]\n",
        "    n_scales = len(num_channels_up)\n",
        "\n",
        "    if not (isinstance(filter_size_up, list) or isinstance(filter_size_up, tuple)):\n",
        "        filter_size_up = [filter_size_up] * n_scales\n",
        "    model = nn.Sequential()\n",
        "\n",
        "    for i in range(len(num_channels_up) - 1):\n",
        "\n",
        "        if upsample_first:\n",
        "            model.add(conv(num_channels_up[i], num_channels_up[i + 1], filter_size_up[i], 1, pad=pad))\n",
        "            if upsample_mode != 'none' and i != len(num_channels_up) - 2:\n",
        "                model.add(nn.Upsample(scale_factor=2, mode=upsample_mode))\n",
        "            # model.add(nn.functional.interpolate(size=None,scale_factor=2, mode=upsample_mode))\n",
        "        else:\n",
        "            if upsample_mode != 'none' and i != 0:\n",
        "                model.add(nn.Upsample(scale_factor=2, mode=upsample_mode))\n",
        "            # model.add(nn.functional.interpolate(size=None,scale_factor=2, mode=upsample_mode))\n",
        "            model.add(conv(num_channels_up[i], num_channels_up[i + 1], filter_size_up[i], 1, pad=pad))\n",
        "\n",
        "        if i != len(num_channels_up) - 1:\n",
        "            if (bn_before_act):\n",
        "                model.add(nn.BatchNorm2d(num_channels_up[i + 1], affine=bn_affine))\n",
        "            model.add(act_fun)\n",
        "            if (not bn_before_act):\n",
        "                model.add(nn.BatchNorm2d(num_channels_up[i + 1], affine=bn_affine))\n",
        "\n",
        "    model.add(conv(num_channels_up[-1], num_output_channels, 1, pad=pad))\n",
        "    if need_sigmoid:\n",
        "        model.add(nn.Sigmoid())\n",
        "\n",
        "    return model"
      ],
      "id": "tWoBYEVklDQ9",
      "execution_count": 8,
      "outputs": []
    },
    {
      "cell_type": "code",
      "metadata": {
        "id": "ywfM2aBnlF-y"
      },
      "source": [
        "def exp_lr_scheduler(optimizer, epoch, init_lr=0.001, lr_decay_epoch=500):\n",
        "    \"\"\"Decay learning rate by a factor of 0.1 every lr_decay_epoch epochs.\"\"\"\n",
        "    lr = init_lr * (0.65 ** (epoch // lr_decay_epoch))\n",
        "\n",
        "    if epoch % lr_decay_epoch == 0:\n",
        "        print('LR is set to {}'.format(lr))\n",
        "\n",
        "    for param_group in optimizer.param_groups:\n",
        "        param_group['lr'] = lr\n",
        "\n",
        "    return optimizer"
      ],
      "id": "ywfM2aBnlF-y",
      "execution_count": 9,
      "outputs": []
    },
    {
      "cell_type": "code",
      "metadata": {
        "id": "hOW_E9MnlIin"
      },
      "source": [
        "def fit(net,\n",
        "        img_noisy_var,\n",
        "        num_channels,\n",
        "        img_clean_var,\n",
        "        num_iter=5000,\n",
        "        LR=0.01,\n",
        "        OPTIMIZER='adam',\n",
        "        opt_input=False,\n",
        "        reg_noise_std=0,\n",
        "        reg_noise_decayevery=100000,\n",
        "        mask_var=None,\n",
        "        apply_f=None,\n",
        "        lr_decay_epoch=0,\n",
        "        net_input=None,\n",
        "        net_input_gen=\"random\",\n",
        "        find_best=False,\n",
        "        weight_decay=0,\n",
        "        ):\n",
        "    if net_input is not None:\n",
        "        print(\"input provided\")\n",
        "    else:\n",
        "        # feed uniform noise into the network\n",
        "        totalupsample = 2 ** len(num_channels)\n",
        "        width = int(img_clean_var.data.shape[2] / totalupsample)\n",
        "        height = int(img_clean_var.data.shape[3] / totalupsample)\n",
        "        shape = [1, num_channels[0], width, height]\n",
        "        print(\"shape: \", shape)\n",
        "        net_input = Variable(torch.randn(shape)/(num_channels[0] * width * height) ** 0.5)\n",
        "        # net_input = Variable(torch.zeros(shape))\n",
        "        # net_input.data.uniform_()\n",
        "        # net_input.data *= 1. / 10\n",
        "\n",
        "    net_input_saved = net_input.data.clone()\n",
        "    noise = net_input.data.clone()\n",
        "    p = [x for x in net.parameters()]\n",
        "\n",
        "    if (opt_input == True):  # optimizer over the input as well\n",
        "        net_input.requires_grad = True\n",
        "        p += [net_input]\n",
        "\n",
        "    mse_wrt_noisy = np.zeros(num_iter)\n",
        "    mse_wrt_truth = np.zeros(num_iter)\n",
        "\n",
        "    if OPTIMIZER == 'SGD':\n",
        "        print(\"optimize with SGD\", LR)\n",
        "        optimizer = torch.optim.SGD(p, lr=LR, momentum=0.9, weight_decay=weight_decay)\n",
        "    elif OPTIMIZER == 'adam':\n",
        "        print(\"optimize with adam\", LR)\n",
        "        optimizer = torch.optim.Adam(p, lr=LR, weight_decay=weight_decay)\n",
        "    elif OPTIMIZER == 'LBFGS':\n",
        "        print(\"optimize with LBFGS\", LR)\n",
        "        optimizer = torch.optim.LBFGS(p, lr=LR)\n",
        "\n",
        "    mse = torch.nn.MSELoss()  # .type(dtype)\n",
        "    noise_energy = mse(img_noisy_var, img_noisy_var)\n",
        "\n",
        "    if find_best:\n",
        "        best_net = copy.deepcopy(net)\n",
        "        best_mse = 1000000.0\n",
        "    for i in tqdm(range(num_iter)):\n",
        "        if lr_decay_epoch is not 0:\n",
        "            optimizer = exp_lr_scheduler(optimizer, i, init_lr=LR, lr_decay_epoch=lr_decay_epoch)\n",
        "        if reg_noise_std > 0:\n",
        "            if i % reg_noise_decayevery == 0:\n",
        "                reg_noise_std *= 0.7\n",
        "            net_input = Variable(net_input_saved + (noise.normal_() * reg_noise_std))\n",
        "\n",
        "        def closure():\n",
        "            optimizer.zero_grad()\n",
        "            out = net(net_input.type(dtype))\n",
        "            out_img = out.clone()\n",
        "            folder_path = './images_out'\n",
        "            Path(folder_path).mkdir(parents=True, exist_ok=True)\n",
        "            # training loss\n",
        "            if mask_var is not None:\n",
        "                loss = mse(out * mask_var, img_noisy_var * mask_var)\n",
        "            elif apply_f:\n",
        "                temp = apply_f(torch.squeeze(out)).unsqueeze(0).unsqueeze(0).to(device)\n",
        "                loss = mse(temp, img_noisy_var)\n",
        "            else:\n",
        "                loss = mse(out, img_noisy_var)\n",
        "\n",
        "            loss.backward()\n",
        "            mse_wrt_noisy[i] = loss.data.cpu().numpy()\n",
        "\n",
        "            # the actual loss\n",
        "            true_loss = mse(Variable(out.data, requires_grad=False), img_clean_var)\n",
        "            # print(true_loss)\n",
        "            mse_wrt_truth[i] = true_loss.data.cpu().numpy()\n",
        "            if i % 1000 == 0:\n",
        "                image_path = os.path.join(folder_path, f\"kk_{i//100}.png\")\n",
        "                plt.imshow(out_img.detach().cpu().numpy().squeeze(), cmap=\"gray\")\n",
        "                plt.savefig(image_path)\n",
        "                plt.close()\n",
        "                print(i, i % 100 == 0)\n",
        "                out2 = net(Variable(net_input_saved).type(dtype))\n",
        "                loss2 = mse(out2, img_clean_var)\n",
        "                print('Iteration %05d    Train loss %f  Actual loss %f Actual loss orig %f  Noise Energy %f' % (i,\n",
        "                                                                                                                loss.data,\n",
        "                                                                                                                true_loss.data,\n",
        "                                                                                                                loss2.data,\n",
        "                                                                                                                noise_energy.data))\n",
        "            return loss\n",
        "\n",
        "        loss = optimizer.step(closure)\n",
        "\n",
        "        if find_best:\n",
        "            # if training loss improves by at least one percent, we found a new best net\n",
        "            if best_mse > 1.005 * loss.data:\n",
        "                best_mse = loss.data\n",
        "                best_net = copy.deepcopy(net)\n",
        "\n",
        "    if find_best:\n",
        "        net = best_net\n",
        "    return mse_wrt_noisy, mse_wrt_truth, net_input_saved, net"
      ],
      "id": "hOW_E9MnlIin",
      "execution_count": 10,
      "outputs": []
    },
    {
      "cell_type": "code",
      "metadata": {
        "id": "nnUSOKZ0l7S8"
      },
      "source": [
        "def run(x_np, y_np, k):\n",
        "    '''\n",
        "    mse obtained by representing img_np with the deep decoder\n",
        "    '''\n",
        "    output_depth = x_np.shape[0]\n",
        "    x_var = np_to_var(x_np).type(dtype)\n",
        "    y_var = np_to_var(y_np).type(dtype)\n",
        "\n",
        "    num_channels = [k] * 5\n",
        "    net = decodernw(output_depth, num_channels_up=num_channels, upsample_first=True).type(dtype)\n",
        "    numit = 25000\n",
        "    mse_n, mse_t, ni, net = fit(num_channels=num_channels,\n",
        "                                reg_noise_std=0,\n",
        "                                num_iter=numit,\n",
        "                                LR=0.001,\n",
        "                                img_noisy_var=y_var,\n",
        "                                net=net,\n",
        "                                img_clean_var=x_var,\n",
        "                                find_best=True,\n",
        "                                apply_f=A,\n",
        "                                OPTIMIZER='adam'\n",
        "                                )\n",
        "    out_img = net(ni.type(dtype)).data.cpu().numpy()[0]\n",
        "    return psnr(out_img, x_np), out_img, num_param(net)"
      ],
      "id": "nnUSOKZ0l7S8",
      "execution_count": 11,
      "outputs": []
    },
    {
      "cell_type": "code",
      "metadata": {
        "colab": {
          "base_uri": "https://localhost:8080/",
          "height": 1000
        },
        "id": "fTQPH9qllVjR",
        "outputId": "8166fbc7-1d43-4b9b-bb96-3435cec721d4"
      },
      "source": [
        "torch.backends.cudnn.enabled = True\n",
        "torch.backends.cudnn.benchmark = True\n",
        "dtype = torch.cuda.FloatTensor\n",
        "os.environ['CUDA_VISIBLE_DEVICES'] = '0'\n",
        "print(\"num GPUs\", torch.cuda.device_count())\n",
        "# dtype = torch.FloatTensor\n",
        "\n",
        "x_np = np.expand_dims(x, axis=0)\n",
        "y_np = np.expand_dims(y, axis=0)\n",
        "\n",
        "\n",
        "# compute representations\n",
        "psnrv, out_img_np, nparms = run(x_np, y_np, 64)\n",
        "\n",
        "print(\"Compression factor: \", np.prod(x_np.shape) / nparms)\n",
        "# plot results\n",
        "fig = plt.figure(figsize=(15, 15))  # create a 5 x 5 figure\n",
        "\n",
        "ax1 = fig.add_subplot(121)\n",
        "plt.imshow(x_np.squeeze(), vmin=0, vmax=1, cmap='gray')\n",
        "ax1.set_title('Original image')\n",
        "ax1.axis('off')\n",
        "\n",
        "ax2 = fig.add_subplot(122)\n",
        "plt.imshow(out_img_np[0].squeeze(), vmin=0, vmax=1, cmap='gray')\n",
        "ax2.set_title(\"Deep-Decoder representation, PSNR: %.2f\" % psnrv)\n",
        "ax2.axis('off')\n",
        "\n",
        "plt.axis('off')\n",
        "fig.savefig(\"result.png\")"
      ],
      "id": "fTQPH9qllVjR",
      "execution_count": 12,
      "outputs": [
        {
          "output_type": "stream",
          "text": [
            "num GPUs 1\n"
          ],
          "name": "stdout"
        },
        {
          "output_type": "stream",
          "text": [
            "\r  0%|          | 0/25000 [00:00<?, ?it/s]"
          ],
          "name": "stderr"
        },
        {
          "output_type": "stream",
          "text": [
            "shape:  [1, 64, 16, 16]\n",
            "optimize with adam 0.001\n"
          ],
          "name": "stdout"
        },
        {
          "output_type": "stream",
          "text": [
            "/usr/local/lib/python3.7/dist-packages/torch/nn/functional.py:3458: UserWarning: Default upsampling behavior when mode=bilinear is changed to align_corners=False since 0.4.0. Please specify align_corners=True if the old behavior is desired. See the documentation of nn.Upsample for details.\n",
            "  \"See the documentation of nn.Upsample for details.\".format(mode)\n",
            "  0%|          | 1/25000 [00:00<3:32:30,  1.96it/s]"
          ],
          "name": "stderr"
        },
        {
          "output_type": "stream",
          "text": [
            "0 True\n",
            "Iteration 00000    Train loss 27865.277344  Actual loss 0.172980 Actual loss orig 0.172980  Noise Energy 0.000000\n"
          ],
          "name": "stdout"
        },
        {
          "output_type": "stream",
          "text": [
            "  4%|▍         | 1003/25000 [01:28<39:35, 10.10it/s]"
          ],
          "name": "stderr"
        },
        {
          "output_type": "stream",
          "text": [
            "1000 True\n",
            "Iteration 01000    Train loss 23.881077  Actual loss 0.013330 Actual loss orig 0.013330  Noise Energy 0.000000\n"
          ],
          "name": "stdout"
        },
        {
          "output_type": "stream",
          "text": [
            "  8%|▊         | 2003/25000 [02:55<40:25,  9.48it/s]"
          ],
          "name": "stderr"
        },
        {
          "output_type": "stream",
          "text": [
            "2000 True\n",
            "Iteration 02000    Train loss 7.505500  Actual loss 0.006169 Actual loss orig 0.006169  Noise Energy 0.000000\n"
          ],
          "name": "stdout"
        },
        {
          "output_type": "stream",
          "text": [
            " 12%|█▏        | 3003/25000 [04:21<36:08, 10.14it/s]"
          ],
          "name": "stderr"
        },
        {
          "output_type": "stream",
          "text": [
            "3000 True\n",
            "Iteration 03000    Train loss 4.929256  Actual loss 0.004557 Actual loss orig 0.004557  Noise Energy 0.000000\n"
          ],
          "name": "stdout"
        },
        {
          "output_type": "stream",
          "text": [
            " 16%|█▌        | 4003/25000 [05:48<34:34, 10.12it/s]"
          ],
          "name": "stderr"
        },
        {
          "output_type": "stream",
          "text": [
            "4000 True\n",
            "Iteration 04000    Train loss 1.820753  Actual loss 0.003114 Actual loss orig 0.003114  Noise Energy 0.000000\n"
          ],
          "name": "stdout"
        },
        {
          "output_type": "stream",
          "text": [
            " 20%|██        | 5003/25000 [07:14<32:34, 10.23it/s]"
          ],
          "name": "stderr"
        },
        {
          "output_type": "stream",
          "text": [
            "5000 True\n",
            "Iteration 05000    Train loss 1.742005  Actual loss 0.002524 Actual loss orig 0.002524  Noise Energy 0.000000\n"
          ],
          "name": "stdout"
        },
        {
          "output_type": "stream",
          "text": [
            " 24%|██▍       | 6003/25000 [08:41<30:42, 10.31it/s]"
          ],
          "name": "stderr"
        },
        {
          "output_type": "stream",
          "text": [
            "6000 True\n",
            "Iteration 06000    Train loss 0.751432  Actual loss 0.001429 Actual loss orig 0.001429  Noise Energy 0.000000\n"
          ],
          "name": "stdout"
        },
        {
          "output_type": "stream",
          "text": [
            " 28%|██▊       | 7003/25000 [10:07<29:43, 10.09it/s]"
          ],
          "name": "stderr"
        },
        {
          "output_type": "stream",
          "text": [
            "7000 True\n",
            "Iteration 07000    Train loss 0.291602  Actual loss 0.000837 Actual loss orig 0.000837  Noise Energy 0.000000\n"
          ],
          "name": "stdout"
        },
        {
          "output_type": "stream",
          "text": [
            " 32%|███▏      | 8003/25000 [11:34<27:28, 10.31it/s]"
          ],
          "name": "stderr"
        },
        {
          "output_type": "stream",
          "text": [
            "8000 True\n",
            "Iteration 08000    Train loss 0.186826  Actual loss 0.000467 Actual loss orig 0.000467  Noise Energy 0.000000\n"
          ],
          "name": "stdout"
        },
        {
          "output_type": "stream",
          "text": [
            " 36%|███▌      | 9003/25000 [13:00<26:20, 10.12it/s]"
          ],
          "name": "stderr"
        },
        {
          "output_type": "stream",
          "text": [
            "9000 True\n",
            "Iteration 09000    Train loss 0.106551  Actual loss 0.000270 Actual loss orig 0.000270  Noise Energy 0.000000\n"
          ],
          "name": "stdout"
        },
        {
          "output_type": "stream",
          "text": [
            " 40%|████      | 10003/25000 [14:27<24:28, 10.21it/s]"
          ],
          "name": "stderr"
        },
        {
          "output_type": "stream",
          "text": [
            "10000 True\n",
            "Iteration 10000    Train loss 2.578211  Actual loss 0.002337 Actual loss orig 0.002337  Noise Energy 0.000000\n"
          ],
          "name": "stdout"
        },
        {
          "output_type": "stream",
          "text": [
            " 44%|████▍     | 11003/25000 [15:53<23:03, 10.11it/s]"
          ],
          "name": "stderr"
        },
        {
          "output_type": "stream",
          "text": [
            "11000 True\n",
            "Iteration 11000    Train loss 0.343185  Actual loss 0.000413 Actual loss orig 0.000413  Noise Energy 0.000000\n"
          ],
          "name": "stdout"
        },
        {
          "output_type": "stream",
          "text": [
            " 48%|████▊     | 12003/25000 [17:19<21:02, 10.29it/s]"
          ],
          "name": "stderr"
        },
        {
          "output_type": "stream",
          "text": [
            "12000 True\n",
            "Iteration 12000    Train loss 0.194456  Actual loss 0.000368 Actual loss orig 0.000368  Noise Energy 0.000000\n"
          ],
          "name": "stdout"
        },
        {
          "output_type": "stream",
          "text": [
            " 52%|█████▏    | 13003/25000 [18:45<19:28, 10.27it/s]"
          ],
          "name": "stderr"
        },
        {
          "output_type": "stream",
          "text": [
            "13000 True\n",
            "Iteration 13000    Train loss 0.108375  Actual loss 0.000180 Actual loss orig 0.000180  Noise Energy 0.000000\n"
          ],
          "name": "stdout"
        },
        {
          "output_type": "stream",
          "text": [
            " 56%|█████▌    | 14003/25000 [20:12<18:21,  9.98it/s]"
          ],
          "name": "stderr"
        },
        {
          "output_type": "stream",
          "text": [
            "14000 True\n",
            "Iteration 14000    Train loss 1.075710  Actual loss 0.000219 Actual loss orig 0.000219  Noise Energy 0.000000\n"
          ],
          "name": "stdout"
        },
        {
          "output_type": "stream",
          "text": [
            " 60%|██████    | 15003/25000 [21:38<16:23, 10.16it/s]"
          ],
          "name": "stderr"
        },
        {
          "output_type": "stream",
          "text": [
            "15000 True\n",
            "Iteration 15000    Train loss 0.379786  Actual loss 0.000102 Actual loss orig 0.000102  Noise Energy 0.000000\n"
          ],
          "name": "stdout"
        },
        {
          "output_type": "stream",
          "text": [
            " 64%|██████▍   | 16003/25000 [23:04<14:37, 10.25it/s]"
          ],
          "name": "stderr"
        },
        {
          "output_type": "stream",
          "text": [
            "16000 True\n",
            "Iteration 16000    Train loss 0.228663  Actual loss 0.000069 Actual loss orig 0.000069  Noise Energy 0.000000\n"
          ],
          "name": "stdout"
        },
        {
          "output_type": "stream",
          "text": [
            " 68%|██████▊   | 17003/25000 [24:31<14:08,  9.42it/s]"
          ],
          "name": "stderr"
        },
        {
          "output_type": "stream",
          "text": [
            "17000 True\n",
            "Iteration 17000    Train loss 0.177762  Actual loss 0.000051 Actual loss orig 0.000051  Noise Energy 0.000000\n"
          ],
          "name": "stdout"
        },
        {
          "output_type": "stream",
          "text": [
            " 72%|███████▏  | 18003/25000 [25:57<11:30, 10.13it/s]"
          ],
          "name": "stderr"
        },
        {
          "output_type": "stream",
          "text": [
            "18000 True\n",
            "Iteration 18000    Train loss 0.104347  Actual loss 0.000038 Actual loss orig 0.000038  Noise Energy 0.000000\n"
          ],
          "name": "stdout"
        },
        {
          "output_type": "stream",
          "text": [
            " 76%|███████▌  | 19003/25000 [27:23<09:51, 10.13it/s]"
          ],
          "name": "stderr"
        },
        {
          "output_type": "stream",
          "text": [
            "19000 True\n",
            "Iteration 19000    Train loss 0.079214  Actual loss 0.000031 Actual loss orig 0.000031  Noise Energy 0.000000\n"
          ],
          "name": "stdout"
        },
        {
          "output_type": "stream",
          "text": [
            " 80%|████████  | 20003/25000 [28:50<08:13, 10.13it/s]"
          ],
          "name": "stderr"
        },
        {
          "output_type": "stream",
          "text": [
            "20000 True\n",
            "Iteration 20000    Train loss 0.049108  Actual loss 0.000023 Actual loss orig 0.000023  Noise Energy 0.000000\n"
          ],
          "name": "stdout"
        },
        {
          "output_type": "stream",
          "text": [
            " 84%|████████▍ | 21003/25000 [30:17<06:38, 10.03it/s]"
          ],
          "name": "stderr"
        },
        {
          "output_type": "stream",
          "text": [
            "21000 True\n",
            "Iteration 21000    Train loss 0.037224  Actual loss 0.000019 Actual loss orig 0.000019  Noise Energy 0.000000\n"
          ],
          "name": "stdout"
        },
        {
          "output_type": "stream",
          "text": [
            " 88%|████████▊ | 22003/25000 [31:43<04:54, 10.19it/s]"
          ],
          "name": "stderr"
        },
        {
          "output_type": "stream",
          "text": [
            "22000 True\n",
            "Iteration 22000    Train loss 0.297746  Actual loss 0.000187 Actual loss orig 0.000187  Noise Energy 0.000000\n"
          ],
          "name": "stdout"
        },
        {
          "output_type": "stream",
          "text": [
            " 92%|█████████▏| 23003/25000 [33:10<03:17, 10.10it/s]"
          ],
          "name": "stderr"
        },
        {
          "output_type": "stream",
          "text": [
            "23000 True\n",
            "Iteration 23000    Train loss 0.102215  Actual loss 0.000039 Actual loss orig 0.000039  Noise Energy 0.000000\n"
          ],
          "name": "stdout"
        },
        {
          "output_type": "stream",
          "text": [
            " 96%|█████████▌| 24003/25000 [34:36<01:37, 10.26it/s]"
          ],
          "name": "stderr"
        },
        {
          "output_type": "stream",
          "text": [
            "24000 True\n",
            "Iteration 24000    Train loss 0.056234  Actual loss 0.000026 Actual loss orig 0.000026  Noise Energy 0.000000\n"
          ],
          "name": "stdout"
        },
        {
          "output_type": "stream",
          "text": [
            "100%|██████████| 25000/25000 [36:02<00:00, 11.56it/s]\n"
          ],
          "name": "stderr"
        },
        {
          "output_type": "stream",
          "text": [
            "Compression factor:  10.317380352644836\n"
          ],
          "name": "stdout"
        },
        {
          "output_type": "display_data",
          "data": {
            "image/png": "[encoded data removed]",
            "text/plain": [
              "<Figure size 1080x1080 with 2 Axes>"
            ]
          },
          "metadata": {
            "tags": [],
            "needs_background": "light"
          }
        }
      ]
    }
  ]
}