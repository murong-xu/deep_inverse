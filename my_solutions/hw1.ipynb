{
 "cells": [
  {
   "cell_type": "markdown",
   "metadata": {},
   "source": [
    "# Problem 1.3"
   ]
  },
  {
   "cell_type": "code",
   "execution_count": 1,
   "metadata": {},
   "outputs": [],
   "source": [
    "import numpy as np\n",
    "from scipy.linalg import orth\n",
    "import random\n",
    "import matplotlib.pyplot as plt\n",
    "%matplotlib inline"
   ]
  },
  {
   "cell_type": "code",
   "execution_count": 2,
   "metadata": {},
   "outputs": [],
   "source": [
    "def main(k, n, num_point, var_noise):\n",
    "    # Step 1: Generate a random k-dim subspace based on the orthogonal basis U\n",
    "    original_space = np.random.random(size=(n, n))\n",
    "    U_full = orth(original_space)\n",
    "    indices = np.random.choice(np.arange(1000), size=k, replace=False)\n",
    "    U = U_full[:, indices]\n",
    "\n",
    "    # Step 2: Generate original x\n",
    "    c = np.random.rand(k, num_point)\n",
    "    x_original = np.matmul(U, c)\n",
    "\n",
    "    # Step 3: Add Gaussian zero-mean noise to obtain noisy observations\n",
    "    mean = np.zeros(n)\n",
    "    cov = (var_noise / n) * np.identity(n)\n",
    "    noise_all = np.zeros((n, num_point))\n",
    "    for point in range(num_point):\n",
    "        noise = np.random.multivariate_normal(mean, cov, 1)\n",
    "        noise_all[:, point] = np.reshape(noise, n)\n",
    "    y = x_original + noise_all\n",
    "\n",
    "    # Step 4: Denoise and get the estimation\n",
    "    x_estimate = np.matmul(np.matmul(U, U.T), y)\n",
    "\n",
    "    # Step 5: Calculate the MSE\n",
    "    diff = x_estimate - x_original\n",
    "    square = np.square(diff)\n",
    "    ssd = np.sum(np.square(diff), axis=0)\n",
    "    norm = np.sum(np.square(x_original), axis=0)\n",
    "    mse_avg = ssd / norm\n",
    "    return mse_avg"
   ]
  },
  {
   "cell_type": "code",
   "execution_count": 3,
   "metadata": {},
   "outputs": [
    {
     "data": {
      "image/png": "[encoded data removed]",
      "text/plain": [
       "<Figure size 432x288 with 1 Axes>"
      ]
     },
     "metadata": {
      "needs_background": "light"
     },
     "output_type": "display_data"
    }
   ],
   "source": [
    "# Experiment 1: Dimension k ranging from 100 to 1000\n",
    "k_list = [100, 200, 300, 400, 500, 600, 700, 800, 900, 1000] # dim of the subspace\n",
    "n = 1000 # dim of the original space\n",
    "num_point = 500\n",
    "variance_noise = 1\n",
    "\n",
    "list_mse_mean = []\n",
    "list_mse_std = []\n",
    "\n",
    "for k in k_list:\n",
    "    mse_avg = main(k, n, num_point, variance_noise)\n",
    "    list_mse_mean.append(np.mean(mse_avg))\n",
    "    list_mse_std.append(np.std(mse_avg))\n",
    "    \n",
    "# Plot\n",
    "label_k = ['100', '200', '300', '400', '500', '600', '700', '800', '900', '1000']\n",
    "x = np.arange(len(label_k))\n",
    "fig, ax = plt.subplots()\n",
    "ax.bar(x, list_mse_mean,\n",
    "       yerr=list_mse_std,\n",
    "       align='center',\n",
    "       alpha=0.5,\n",
    "       ecolor='black',\n",
    "       capsize=10)\n",
    "ax.set_ylabel('Average MSE')\n",
    "ax.set_xticks(x)\n",
    "ax.set_xticklabels(label_k)\n",
    "ax.set_xlabel('k')\n",
    "ax.set_title('Denoising in different dimensions')\n",
    "ax.yaxis.grid(True)\n",
    "\n",
    "plt.tight_layout()\n",
    "plt.show()"
   ]
  },
  {
   "cell_type": "code",
   "execution_count": 4,
   "metadata": {},
   "outputs": [
    {
     "data": {
      "image/png": "[encoded data removed]",
      "text/plain": [
       "<Figure size 432x288 with 1 Axes>"
      ]
     },
     "metadata": {
      "needs_background": "light"
     },
     "output_type": "display_data"
    }
   ],
   "source": [
    "# Experiment 2: Dimension k ranging from 1 to 1000\n",
    "k_list = [1, 100, 200, 300, 400, 500, 600, 700, 800, 900, 1000] # dim of the subspace\n",
    "n = 1000 # dim of the original space\n",
    "num_point = 500\n",
    "variance_noise = 1\n",
    "\n",
    "list_mse_mean = []\n",
    "list_mse_std = []\n",
    "\n",
    "for k in k_list:\n",
    "    mse_avg = main(k, n, num_point, variance_noise)\n",
    "    list_mse_mean.append(np.mean(mse_avg))\n",
    "    list_mse_std.append(np.std(mse_avg))\n",
    "    \n",
    "# Plot\n",
    "label_k = ['1', '100', '200', '300', '400', '500', '600', '700', '800', '900', '1000']\n",
    "x = np.arange(len(label_k))\n",
    "fig, ax = plt.subplots()\n",
    "ax.bar(x, list_mse_mean,\n",
    "       yerr=list_mse_std,\n",
    "       align='center',\n",
    "       alpha=0.5,\n",
    "       ecolor='black',\n",
    "       capsize=10)\n",
    "ax.set_ylabel('Average MSE')\n",
    "ax.set_xticks(x)\n",
    "ax.set_xticklabels(label_k)\n",
    "ax.set_xlabel('k')\n",
    "ax.set_title('Denoising in different dimensions')\n",
    "ax.yaxis.grid(True)\n",
    "\n",
    "plt.tight_layout()\n",
    "plt.show()"
   ]
  }
 ],
 "metadata": {
  "kernelspec": {
   "display_name": "Python 3",
   "language": "python",
   "name": "python3"
  },
  "language_info": {
   "codemirror_mode": {
    "name": "ipython",
    "version": 3
   },
   "file_extension": ".py",
   "mimetype": "text/x-python",
   "name": "python",
   "nbconvert_exporter": "python",
   "pygments_lexer": "ipython3",
   "version": "3.8.5"
  }
 },
 "nbformat": 4,
 "nbformat_minor": 4
}
